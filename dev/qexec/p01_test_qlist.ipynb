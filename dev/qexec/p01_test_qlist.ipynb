{
 "cells": [
  {
   "cell_type": "code",
   "execution_count": 21,
   "metadata": {
    "collapsed": true
   },
   "outputs": [],
   "source": [
    "import sys\n",
    "import importlib\n",
    "sys.path.append('../../')\n",
    "\n",
    "import knutils.qexec as kqe"
   ]
  },
  {
   "cell_type": "code",
   "execution_count": 31,
   "metadata": {},
   "outputs": [
    {
     "data": {
      "text/plain": [
       "<module 'knutils.qexec' from '../..\\\\knutils\\\\qexec.py'>"
      ]
     },
     "execution_count": 31,
     "metadata": {},
     "output_type": "execute_result"
    }
   ],
   "source": [
    "importlib.reload(kqe)"
   ]
  },
  {
   "cell_type": "code",
   "execution_count": 32,
   "metadata": {},
   "outputs": [],
   "source": [
    "qe = kqe.QExec(kqe.InQlist(list(reversed(range(10)))), kqe.OutQlist(), kqe.LogQprint())"
   ]
  },
  {
   "cell_type": "code",
   "execution_count": 33,
   "metadata": {},
   "outputs": [
    {
     "name": "stdout",
     "output_type": "stream",
     "text": [
      "start\n",
      "q-pop\n",
      "in: 9\n",
      "out: 0.16666666666666666\n",
      "push: 0.16666666666666666\n",
      "q-pop\n",
      "in: 8\n",
      "out: 0.2\n",
      "push: 0.2\n",
      "q-pop\n",
      "in: 7\n",
      "out: 0.25\n",
      "push: 0.25\n",
      "q-pop\n",
      "in: 6\n",
      "out: 0.3333333333333333\n",
      "push: 0.3333333333333333\n",
      "q-pop\n",
      "in: 5\n",
      "out: 0.5\n",
      "push: 0.5\n",
      "q-pop\n",
      "in: 4\n",
      "out: 1.0\n",
      "push: 1.0\n",
      "q-pop\n",
      "in: 3\n",
      "err: 3, division by zero\n",
      "q-pop\n",
      "in: 2\n",
      "out: -1.0\n",
      "push: -1.0\n",
      "q-pop\n",
      "in: 1\n",
      "out: -0.5\n",
      "push: -0.5\n",
      "q-pop\n",
      "in: 0\n",
      "out: -0.3333333333333333\n",
      "push: -0.3333333333333333\n",
      "close\n"
     ]
    }
   ],
   "source": [
    "qe.transform_all(lambda x: 1/(x-3))"
   ]
  },
  {
   "cell_type": "code",
   "execution_count": null,
   "metadata": {
    "collapsed": true
   },
   "outputs": [],
   "source": []
  }
 ],
 "metadata": {
  "kernelspec": {
   "display_name": "Python 3",
   "language": "python",
   "name": "python3"
  },
  "language_info": {
   "codemirror_mode": {
    "name": "ipython",
    "version": 3
   },
   "file_extension": ".py",
   "mimetype": "text/x-python",
   "name": "python",
   "nbconvert_exporter": "python",
   "pygments_lexer": "ipython3",
   "version": "3.6.1"
  }
 },
 "nbformat": 4,
 "nbformat_minor": 2
}
