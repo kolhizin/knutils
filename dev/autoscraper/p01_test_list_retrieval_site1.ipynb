{
 "cells": [
  {
   "cell_type": "code",
   "execution_count": 1,
   "metadata": {
    "collapsed": true
   },
   "outputs": [],
   "source": [
    "import sys\n",
    "import importlib\n",
    "sys.path.append('../../')\n",
    "\n",
    "import lxml.html as html\n",
    "\n",
    "import knutils.autoscraper as kas"
   ]
  },
  {
   "cell_type": "code",
   "execution_count": 2,
   "metadata": {},
   "outputs": [
    {
     "data": {
      "text/plain": [
       "<module 'knutils.autoscraper' from '../..\\\\knutils\\\\autoscraper.py'>"
      ]
     },
     "execution_count": 2,
     "metadata": {},
     "output_type": "execute_result"
    }
   ],
   "source": [
    "importlib.reload(kas)"
   ]
  },
  {
   "cell_type": "code",
   "execution_count": 3,
   "metadata": {
    "collapsed": true
   },
   "outputs": [],
   "source": [
    "root = html.parse('../../../DataSets/SiteSample/S1/List.html')"
   ]
  },
  {
   "cell_type": "code",
   "execution_count": 35,
   "metadata": {},
   "outputs": [
    {
     "name": "stdout",
     "output_type": "stream",
     "text": [
      "http://pejnya.net/content/chastnoe.php?news=prislannoe_837\n",
      "Присланное | Раздел - частное   16 Февраля 2018   Просмотров - [52687]\n",
      "http://pejnya.net/content/chastnoe.php?news=prislannoe_836\n",
      "Присланное | Раздел - частное   16 Февраля 2018   Просмотров - [46732]\n",
      "http://pejnya.net/content/chastnoe.php?news=prislannoe_835\n",
      "Присланное | Раздел - частное   16 Февраля 2018   Просмотров - [68525]\n",
      "http://pejnya.net/content/photo.php?news=podborochka_241\n",
      "Подборка фоток (241) | Раздел - самое интересное   11 Февраля 2018   Просмотров - [75311]\n",
      "http://pejnya.net/content/photo.php?news=vspominaya_leto_71\n",
      "Вспоминаем лето (71) | Раздел - самое интересное   11 Февраля 2018   Просмотров - [98299]\n",
      "http://pejnya.net/content/photo.php?news=popi_170\n",
      "Попки)) Часть - 170 | Раздел - самое интересное   11 Февраля 2018   Просмотров - [95095]\n",
      "http://pejnya.net/content/photo.php?news=podb_chastnih_ero_photo_665\n",
      "Подборка частных эротических фоток (665) | Раздел - самое интересное   11 Февраля 2018   Просмотров - [92996]\n",
      "http://pejnya.net/content/photo.php?news=podb_chastnih_ero_photo_664\n",
      "Подборка частных эротических фоток (664) | Раздел - самое интересное   11 Февраля 2018   Просмотров - [82671]\n"
     ]
    }
   ],
   "source": [
    "for x in root.iter():\n",
    "    if x.tag == 'a' and '>>>' in x.text_content():\n",
    "        print(x.attrib['href'])\n",
    "        tmp = x.getparent().getparent().getparent()\n",
    "        for z in tmp[0].iter():\n",
    "            if z.tag == 'tr':\n",
    "                print(z.text_content())"
   ]
  },
  {
   "cell_type": "code",
   "execution_count": 23,
   "metadata": {
    "collapsed": true
   },
   "outputs": [],
   "source": [
    "#set labels\n",
    "\n",
    "sample = []\n",
    "target_urls = []\n",
    "target_descr = []\n",
    "\n",
    "hit_end = False\n",
    "for x in root.iter():\n",
    "    sample.append(x)\n",
    "    if x.tag == 'a':\n",
    "        url = x.attrib['href']\n",
    "        if 'index.php' in url:\n",
    "            hit_end = True\n",
    "            \n",
    "        if ('pejnya.net' in url) and ('content' in url) and not hit_end:\n",
    "            target_urls.append(x)\n",
    "    if x.tail is not None and '2018' in x.tail and 'Просмотров' in x.tail:\n",
    "        target_descr.append(x.getparent())"
   ]
  },
  {
   "cell_type": "code",
   "execution_count": 25,
   "metadata": {},
   "outputs": [
    {
     "data": {
      "text/plain": [
       "8"
      ]
     },
     "execution_count": 25,
     "metadata": {},
     "output_type": "execute_result"
    }
   ],
   "source": [
    "len(target_urls)"
   ]
  },
  {
   "cell_type": "code",
   "execution_count": 5,
   "metadata": {
    "collapsed": true
   },
   "outputs": [],
   "source": [
    "depth_stats, tag_stats, attrk_stats, attrv_stats, attrkv_stats = kas.AutoScraper.get_stats(root)\n",
    "\n",
    "p_max_depth = max([d for (d, n) in depth_stats if n > 1])\n",
    "p_used_tags = [x for (x, n) in tag_stats if type(x) is str]\n",
    "for t in ['br', 'b']:\n",
    "    p_used_tags.remove(t)\n",
    "t_used_attrk = ['class', 'id', 'name', 'title', 'type']\n",
    "t_used_attrv_raw = [z for (k, v) in attrkv_stats.items() if k in t_used_attrk for (z, n) in v]\n",
    "t_used_attrv = list(set(t_used_attrv_raw))\n",
    "p_used_attrkv = [(k, v) for k in t_used_attrk for v in t_used_attrv if v in [x[0] for x in attrkv_stats[k]]]\n",
    "\n",
    "p_context = [('cur', lambda p: p),\n",
    "             ('prev-1', lambda p: kas.AutoScraper.get_sibling(p, -1)),('next-1', lambda p: kas.AutoScraper.get_sibling(p, +1)),\n",
    "            ('child-0',lambda p: kas.AutoScraper.get_child(p, 0)),\n",
    "             ('child-1',lambda p: kas.AutoScraper.get_child(p, 1)),\n",
    "             ('child-2',lambda p: kas.AutoScraper.get_child(p, 2))]\n",
    "\n",
    "def custom_order(clsf_name, split, split_stat):\n",
    "    res = kas.SplitStat.calc_gini(clsf_name, split, split_stat)\n",
    "    \n",
    "    if clsf_name=='iter':\n",
    "        if split.base().tag_name() == 'other':\n",
    "            res *= 0.1\n",
    "    elif clsf_name=='tags':\n",
    "        if split.base().base().tag_name()=='other':\n",
    "            res *= 0.1\n",
    "            \n",
    "    if clsf_name in ('tags', 'attrs'):\n",
    "        if split.base().name() != 'cur':\n",
    "            res *= 0.1\n",
    "    \n",
    "    return res"
   ]
  },
  {
   "cell_type": "code",
   "execution_count": 6,
   "metadata": {
    "collapsed": true
   },
   "outputs": [],
   "source": [
    "classifier1 = kas.ParentRelClassifier(kas.ContextClassifier(kas.TagClassifier(p_used_tags), p_context), 5)\n",
    "classifier2 = kas.ParentRelClassifier(kas.ContextClassifier(kas.AttribClassifier(p_used_attrkv), p_context), 5)\n",
    "classifier3 = kas.FwdIterClassifier(kas.TagClassifier(p_used_tags), 20)\n",
    "fin_classifier = kas.AutoScraper({'tags':classifier1, 'attrs':classifier2, 'iter':classifier3})"
   ]
  },
  {
   "cell_type": "code",
   "execution_count": 7,
   "metadata": {},
   "outputs": [
    {
     "name": "stdout",
     "output_type": "stream",
     "text": [
      "Wall time: 6.84 s\n"
     ]
    }
   ],
   "source": [
    "%%time\n",
    "url_scraper = fin_classifier.fit(root, target_urls, order_function=custom_order)\n",
    "descr_scraper = fin_classifier.fit(root, target_descr, order_function=custom_order)\n",
    "d_scrapers = {'url': url_scraper, 'descr': descr_scraper}\n",
    "d_structure = {'data':{'entry':(1,), 'other': (0,0)}, 'entry':{'url':(1, 1), 'descr': (1, 1), 'other': (0, 0)}}\n",
    "fin_scraper = kas.MultiScraper(d_scrapers, d_structure)"
   ]
  },
  {
   "cell_type": "code",
   "execution_count": 8,
   "metadata": {},
   "outputs": [
    {
     "data": {
      "text/plain": [
       "(('iter', <img> at fwd-iter-id=0, 636-0 vs 60-8),\n",
       " (('attrs', class=txt-main at context cur at rel-depth=1, 60-0 vs 0-8),\n",
       "  None,\n",
       "  None),\n",
       " None)"
      ]
     },
     "execution_count": 8,
     "metadata": {},
     "output_type": "execute_result"
    }
   ],
   "source": [
    "url_scraper.get_split_tree()"
   ]
  },
  {
   "cell_type": "code",
   "execution_count": 9,
   "metadata": {},
   "outputs": [
    {
     "data": {
      "text/plain": [
       "(('attrs', class=txt-main at context cur at rel-depth=0, 679-0 vs 17-8),\n",
       " (('iter', <a> at fwd-iter-id=1, 17-0 vs 0-8), None, None),\n",
       " None)"
      ]
     },
     "execution_count": 9,
     "metadata": {},
     "output_type": "execute_result"
    }
   ],
   "source": [
    "descr_scraper.get_split_tree()"
   ]
  },
  {
   "cell_type": "code",
   "execution_count": 9,
   "metadata": {
    "collapsed": true
   },
   "outputs": [],
   "source": [
    "urls = url_scraper.select(root)\n",
    "descrs = descr_scraper.select(root)"
   ]
  },
  {
   "cell_type": "code",
   "execution_count": 10,
   "metadata": {
    "collapsed": true
   },
   "outputs": [],
   "source": [
    "res = fin_scraper.parse(root)"
   ]
  },
  {
   "cell_type": "code",
   "execution_count": 11,
   "metadata": {},
   "outputs": [
    {
     "data": {
      "text/plain": [
       "data(<Element td at 0x1fd1c075e58>) with {'entry': [entry(<Element table at 0x1fd1c075ea8>) with {'url': [url(<Element a at 0x1fd1c0772c8>)], 'descr': [descr(<Element td at 0x1fd1c075f48>)]}, entry(<Element table at 0x1fd1c0773b8>) with {'url': [url(<Element a at 0x1fd1c077778>)], 'descr': [descr(<Element td at 0x1fd1c077458>)]}, entry(<Element table at 0x1fd1c077868>) with {'url': [url(<Element a at 0x1fd1c077c28>)], 'descr': [descr(<Element td at 0x1fd1c077908>)]}, entry(<Element table at 0x1fd1c07a5e8>) with {'url': [url(<Element a at 0x1fd1c07a9a8>)], 'descr': [descr(<Element td at 0x1fd1c07a688>)]}, entry(<Element table at 0x1fd1c07aa98>) with {'url': [url(<Element a at 0x1fd1c07ae58>)], 'descr': [descr(<Element td at 0x1fd1c07ab38>)]}, entry(<Element table at 0x1fd1c07af48>) with {'url': [url(<Element a at 0x1fd1c07b368>)], 'descr': [descr(<Element td at 0x1fd1c07b048>)]}, entry(<Element table at 0x1fd1c07b458>) with {'url': [url(<Element a at 0x1fd1c07b818>)], 'descr': [descr(<Element td at 0x1fd1c07b4f8>)]}, entry(<Element table at 0x1fd1c07b908>) with {'url': [url(<Element a at 0x1fd1c07bcc8>)], 'descr': [descr(<Element td at 0x1fd1c07b9a8>)]}]}"
      ]
     },
     "execution_count": 11,
     "metadata": {},
     "output_type": "execute_result"
    }
   ],
   "source": [
    "res"
   ]
  },
  {
   "cell_type": "code",
   "execution_count": null,
   "metadata": {
    "collapsed": true
   },
   "outputs": [],
   "source": []
  }
 ],
 "metadata": {
  "kernelspec": {
   "display_name": "Python 3",
   "language": "python",
   "name": "python3"
  },
  "language_info": {
   "codemirror_mode": {
    "name": "ipython",
    "version": 3
   },
   "file_extension": ".py",
   "mimetype": "text/x-python",
   "name": "python",
   "nbconvert_exporter": "python",
   "pygments_lexer": "ipython3",
   "version": "3.6.1"
  }
 },
 "nbformat": 4,
 "nbformat_minor": 2
}
