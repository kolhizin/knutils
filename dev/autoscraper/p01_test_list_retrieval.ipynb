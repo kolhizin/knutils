{
 "cells": [
  {
   "cell_type": "code",
   "execution_count": 1,
   "metadata": {
    "collapsed": true
   },
   "outputs": [],
   "source": [
    "import sys\n",
    "import importlib\n",
    "sys.path.append('../../')\n",
    "\n",
    "import lxml.html as html\n",
    "\n",
    "import knutils.autoscraper as kas"
   ]
  },
  {
   "cell_type": "code",
   "execution_count": null,
   "metadata": {},
   "outputs": [],
   "source": [
    "importlib.reload(kas)"
   ]
  },
  {
   "cell_type": "code",
   "execution_count": 2,
   "metadata": {},
   "outputs": [],
   "source": [
    "root = html.parse('../../../DataSets/SiteSample/S1/List.html')"
   ]
  },
  {
   "cell_type": "code",
   "execution_count": 3,
   "metadata": {
    "collapsed": true
   },
   "outputs": [],
   "source": [
    "#set labels\n",
    "\n",
    "sample = []\n",
    "target_urls = []\n",
    "\n",
    "hit_end = False\n",
    "for x in root.iter():\n",
    "    sample.append(x)\n",
    "    if x.tag == 'a':\n",
    "        url = x.attrib['href']\n",
    "        if 'index.php' in url:\n",
    "            hit_end = True\n",
    "            \n",
    "        if ('pejnya.net' in url) and ('content' in url) and not hit_end:\n",
    "            target_urls.append(x)"
   ]
  },
  {
   "cell_type": "code",
   "execution_count": 4,
   "metadata": {
    "collapsed": true
   },
   "outputs": [],
   "source": [
    "depth_stats, tag_stats, attrk_stats, attrv_stats, attrkv_stats = kas.AutoScraper.get_stats(root)\n",
    "\n",
    "p_max_depth = max([d for (d, n) in depth_stats if n > 1])\n",
    "p_used_tags = [x for (x, n) in tag_stats if type(x) is str]\n",
    "for t in ['br', 'b']:\n",
    "    p_used_tags.remove(t)\n",
    "t_used_attrk = ['class', 'id', 'name', 'title', 'type']\n",
    "t_used_attrv_raw = [z for (k, v) in attrkv_stats.items() if k in t_used_attrk for (z, n) in v]\n",
    "t_used_attrv = list(set(t_used_attrv_raw))\n",
    "p_used_attrkv = [(k, v) for k in t_used_attrk for v in t_used_attrv if v in [x[0] for x in attrkv_stats[k]]]\n",
    "\n",
    "p_context = [('cur', lambda p: p),\n",
    "             ('prev-1', lambda p: kas.AutoScraper.get_sibling(p, -1)),('next-1', lambda p: kas.AutoScraper.get_sibling(p, +1)),\n",
    "            ('child-0',lambda p: kas.AutoScraper.get_child(p, 0)),\n",
    "             ('child-1',lambda p: kas.AutoScraper.get_child(p, 1)),\n",
    "             ('child-2',lambda p: kas.AutoScraper.get_child(p, 2))]\n",
    "\n",
    "def custom_order(clsf_name, split, split_stat):\n",
    "    res = kas.SplitStat.calc_gini(clsf_name, split, split_stat)\n",
    "    \n",
    "    if clsf_name=='iter':\n",
    "        if split.base().tag_name() == 'other':\n",
    "            res *= 0.1\n",
    "    elif clsf_name=='tags':\n",
    "        if split.base().base().tag_name()=='other':\n",
    "            res *= 0.1\n",
    "            \n",
    "    if clsf_name in ('tags', 'attrs'):\n",
    "        if split.base().name() != 'cur':\n",
    "            res *= 0.1\n",
    "    \n",
    "    return res"
   ]
  },
  {
   "cell_type": "code",
   "execution_count": 12,
   "metadata": {
    "collapsed": true
   },
   "outputs": [],
   "source": [
    "classifier1 = kas.ParentRelClassifier(kas.ContextClassifier(kas.TagClassifier(p_used_tags), p_context), 5)\n",
    "classifier2 = kas.ParentRelClassifier(kas.ContextClassifier(kas.AttribClassifier(p_used_attrkv), p_context), 5)\n",
    "classifier3 = kas.FwdIterClassifier(kas.TagClassifier(p_used_tags), 20)\n",
    "fin_classifier = kas.AutoScraper({'tags':classifier1, 'attrs':classifier2, 'iter':classifier3})"
   ]
  },
  {
   "cell_type": "code",
   "execution_count": 13,
   "metadata": {},
   "outputs": [
    {
     "name": "stdout",
     "output_type": "stream",
     "text": [
      "Wall time: 3.36 s\n"
     ]
    }
   ],
   "source": [
    "%%time\n",
    "scraper = fin_classifier.fit(root, target_urls, order_function=custom_order)"
   ]
  },
  {
   "cell_type": "code",
   "execution_count": 14,
   "metadata": {},
   "outputs": [
    {
     "data": {
      "text/plain": [
       "(('iter', <img> at fwd-iter-id=0, 636-0 vs 60-8),\n",
       " (('attrs', class=txt-main at context cur at rel-depth=1, 60-0 vs 0-8),\n",
       "  None,\n",
       "  None),\n",
       " None)"
      ]
     },
     "execution_count": 14,
     "metadata": {},
     "output_type": "execute_result"
    }
   ],
   "source": [
    "scraper.get_split_tree()"
   ]
  },
  {
   "cell_type": "code",
   "execution_count": 8,
   "metadata": {},
   "outputs": [
    {
     "name": "stdout",
     "output_type": "stream",
     "text": [
      "[True, True, True, False, False, False, False, False, False, False, False]\n",
      "[False, False, False, False, False, False, False, False, True, False, True, False, False, True, False, False, False, False, False, False, False, False, False, False, False, False, False, False, True, False, True, False, True, False, False, False, False, False, True, False, True, False, True, False, True, False, True, False, False, False, False, False, False, False, False, False, False, False, False, False, False, False, False, False, False, False, False, False]\n",
      "[False, False, False, False, False, False, False, False, False, False, False, False, False, False, False, False, False, False, True, False, False, False, False, False, False, False, False, False, False, True, False, True, False, True, False, True, False, True, False, True, False, False, False, False, False, False, False, True, False, False, True, False, False, False, False, True, False, False, False, False, False, False, False, True, False, False, False, True, False, True, False, False, True, False, False, False, False, False, False, False, False, True, False, False, False, False, False, False, False, False, False, False, False, False, False, False, False, False, False, False, False, False, False, False, False, False, False, False, False, False, False, False, False, False, False, False, False, False, False, False, False, False, False, False, False, False, False, False, False, False, False, False, False, True, False, False, False, True, False, False, False, False, True, False, False, False, True, False, False, False, False, True, False, False, False, True, False, False, False, False, False, False, True, False, False, False, True, False, False, False, False, True, False, False, True, False, False, False, True, False, False, False, False, False, False, False, False, False, False, False, False, False, True, False, False, False, False, False, False, False, False, False, False, False, True, False, False, False, False, False, False, False, False, True, False, False, False, False, False, True, False, False, False, False, False, False, False, False, True, False, False, False, False, False, True, False, False, False, False, False, False, False, False, True, False, False, False, False, False, True, False, False, False, False, False, False, False, False, False, False, False, False, False, False, False, False, False, False, False, False, False, False, False, False, False, False, False, False, False, False, False, False, False, False, True, False, False, False, False, False, False, False, False, False, False, False, False, False, False, False, False, False, False, False, False, False, False, False, False, False, False, False, False, False, False, False, False, False, False, False, False, False, False, False, False, False, False, False, False, False, False, False, False, False, False, True, False, False, False, False, False, False, False, False, False, False, False, False, False, False, False, False, False, False, False, False, False, False, False, False, False, False, False, False, False, False, False, False, False, False, False, False, False, False, False, True, False, False, False, False, False, False, False, False, False, False, False, False, False, False, False, False, False, False, False, False, False, False, False, False, False, False, False, False, False, False, False, False, False, False, False, False, False, False, False, False, False, False, False, False, False, False, False, False, False, False, True, False, False, False, False, False, False, False, False, True, False, False, False, False, False, True, False, False, False, False, False, False, False, False, True, False, False, False, False, False, True, False, False, False, False, False, False, False, False, True, False, False, False, False, False, True, False, False, False, False, False, False, False, False, True, False, False, False, False, False, True, False, False, False, False, False, False, False, False, True, False, False, False, False, False, False, False, False, False, False, False, False, False, False, False, False, False, False, False, False, False, False, False, False, False, False, True, False, False, False, False, False, True, False, False, False, True, False, False, False, False, False, False, False, False, False, False, False, False, False, False, False, False, False, False, False, False, False, False, False, False, False, False, True, False, False, False, False, False, False, False, False, False, False, False, False, False, False, False, False, False, False, False, False, False, False, False, False, False, False, True, False, False, False, False, False, False, False, False, False, False, False, False, False, False, False, False, False, False, False, False, True, False, False, False, False, False, False, False, False, False, False, False, False, False, False, False, False, False, False, False, False, True, False, False, False, False, False, False, False, False, False, False, False, False, False, False, False, False, False, False, True, False, False, False, True, False, False, False, False, True, False, False, True, False, False, True, False, False, True, False, False, True, False, False, True, False, False, True, False, False, True, False, False, True, False, False, True, False, False, True, False, False, False, False, False, False, False, True, False, False, False, False, False, False, False, False, False]\n"
     ]
    }
   ],
   "source": [
    "res = scraper.select(root)"
   ]
  },
  {
   "cell_type": "code",
   "execution_count": 11,
   "metadata": {},
   "outputs": [
    {
     "name": "stdout",
     "output_type": "stream",
     "text": [
      "http://pejnya.net/content/chastnoe.php?news=prislannoe_837\n",
      "http://pejnya.net/content/chastnoe.php?news=prislannoe_836\n",
      "http://pejnya.net/content/chastnoe.php?news=prislannoe_835\n",
      "http://pejnya.net/content/photo.php?news=podborochka_241\n",
      "http://pejnya.net/content/photo.php?news=vspominaya_leto_71\n",
      "http://pejnya.net/content/photo.php?news=popi_170\n",
      "http://pejnya.net/content/photo.php?news=podb_chastnih_ero_photo_665\n",
      "http://pejnya.net/content/photo.php?news=podb_chastnih_ero_photo_664\n"
     ]
    }
   ],
   "source": [
    "for x in res:\n",
    "    print(x.attrib['href'])"
   ]
  },
  {
   "cell_type": "code",
   "execution_count": null,
   "metadata": {},
   "outputs": [],
   "source": []
  },
  {
   "cell_type": "code",
   "execution_count": null,
   "metadata": {},
   "outputs": [],
   "source": [
    "[x for (x,_) in tag_stats if type(x) is str] - ['br', 'b']"
   ]
  },
  {
   "cell_type": "code",
   "execution_count": null,
   "metadata": {},
   "outputs": [],
   "source": [
    "p_used_tags.remove('br')"
   ]
  },
  {
   "cell_type": "code",
   "execution_count": null,
   "metadata": {},
   "outputs": [],
   "source": [
    "p_used_tags"
   ]
  },
  {
   "cell_type": "code",
   "execution_count": null,
   "metadata": {
    "collapsed": true
   },
   "outputs": [],
   "source": []
  }
 ],
 "metadata": {
  "kernelspec": {
   "display_name": "Python 3",
   "language": "python",
   "name": "python3"
  },
  "language_info": {
   "codemirror_mode": {
    "name": "ipython",
    "version": 3
   },
   "file_extension": ".py",
   "mimetype": "text/x-python",
   "name": "python",
   "nbconvert_exporter": "python",
   "pygments_lexer": "ipython3",
   "version": "3.6.1"
  }
 },
 "nbformat": 4,
 "nbformat_minor": 2
}
