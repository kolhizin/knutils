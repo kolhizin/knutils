{
 "cells": [
  {
   "cell_type": "code",
   "execution_count": 1,
   "metadata": {
    "collapsed": true
   },
   "outputs": [],
   "source": [
    "import sys\n",
    "import importlib\n",
    "sys.path.append('../../')\n",
    "\n",
    "import lxml.html as html\n",
    "\n",
    "import knutils.autoscraper as kas"
   ]
  },
  {
   "cell_type": "code",
   "execution_count": 41,
   "metadata": {},
   "outputs": [
    {
     "data": {
      "text/plain": [
       "<module 'knutils.autoscraper' from '../..\\\\knutils\\\\autoscraper.py'>"
      ]
     },
     "execution_count": 41,
     "metadata": {},
     "output_type": "execute_result"
    }
   ],
   "source": [
    "importlib.reload(kas)"
   ]
  },
  {
   "cell_type": "code",
   "execution_count": 2,
   "metadata": {
    "collapsed": true
   },
   "outputs": [],
   "source": [
    "def make_classifier(root, rel_depth=5, fwditer_num=20):\n",
    "    depth_stats, tag_stats, attrk_stats, attrv_stats, attrkv_stats = kas.AutoScraper.get_stats(root)\n",
    "\n",
    "    p_used_tags = ['a','td','img','tr','div','table','script','meta','span','link','input','center','param',\n",
    "                   'html','head','title','body','form','object','embed']\n",
    "    t_used_attrk = ['class', 'id', 'name', 'title', 'type']\n",
    "    t_used_attrv_raw = [z for (k, v) in attrkv_stats.items() if k in t_used_attrk for (z, n) in v]\n",
    "    t_used_attrv = list(set(t_used_attrv_raw))\n",
    "    p_used_attrkv = [(k, v) for k in t_used_attrk for v in t_used_attrv if v in [x[0] for x in attrkv_stats[k]]]\n",
    "\n",
    "    p_context = [('cur', lambda p: p),\n",
    "                 ('prev-1', lambda p: kas.AutoScraper.get_sibling(p, -1)),\n",
    "                 ('next-1', lambda p: kas.AutoScraper.get_sibling(p, +1)),\n",
    "                ('child-0',lambda p: kas.AutoScraper.get_child(p, 0)),\n",
    "                 ('child-1',lambda p: kas.AutoScraper.get_child(p, 1)),\n",
    "                 ('child-2',lambda p: kas.AutoScraper.get_child(p, 2))]\n",
    "    classifier1 = kas.ParentRelClassifier(kas.ContextClassifier(kas.TagClassifier(p_used_tags), p_context), rel_depth)\n",
    "    classifier2 = kas.ParentRelClassifier(kas.ContextClassifier(kas.AttribClassifier(p_used_attrkv), p_context), rel_depth)\n",
    "    classifier3 = kas.FwdIterClassifier(kas.TagClassifier(p_used_tags), fwditer_num)\n",
    "    return kas.AutoScraper({'tags':classifier1, 'attrs':classifier2, 'iter':classifier3})\n",
    "    \n",
    "def custom_order(clsf_name, split, split_stat):\n",
    "    res = kas.SplitStat.calc_gini(clsf_name, split, split_stat)\n",
    "    \n",
    "    if clsf_name=='iter':\n",
    "        if split.base().tag_name() == 'other':\n",
    "            res *= 0.1\n",
    "        res *= 0.25\n",
    "    elif clsf_name=='tags':\n",
    "        if split.base().base().tag_name()=='other':\n",
    "            res *= 0.1\n",
    "            \n",
    "    if clsf_name in ('tags', 'attrs'):\n",
    "        if split.base().name() != 'cur':\n",
    "            res *= 0.1\n",
    "    \n",
    "    return res"
   ]
  },
  {
   "cell_type": "code",
   "execution_count": 3,
   "metadata": {
    "collapsed": true
   },
   "outputs": [],
   "source": [
    "root = html.parse('../../../DataSets/SiteSample/S2/List.html')"
   ]
  },
  {
   "cell_type": "code",
   "execution_count": 4,
   "metadata": {},
   "outputs": [],
   "source": [
    "#link to data\n",
    "target_dscs = []\n",
    "target_urls = []\n",
    "for x in root.iter():\n",
    "    if x.text is not None and 'Вчера' in x.text:\n",
    "        target_dscs.append(x.getparent())\n",
    "    if x.tag == 'a' and '#comment' not in x.attrib['href'] and 'newsid' in x.attrib['href'] \\\n",
    "        and 'далее' not in x.text_content():\n",
    "            target_urls.append(x)"
   ]
  },
  {
   "cell_type": "code",
   "execution_count": 5,
   "metadata": {
    "collapsed": true
   },
   "outputs": [],
   "source": [
    "fin_classifier = make_classifier(root)"
   ]
  },
  {
   "cell_type": "code",
   "execution_count": 6,
   "metadata": {},
   "outputs": [
    {
     "name": "stdout",
     "output_type": "stream",
     "text": [
      "Wall time: 9.78 s\n"
     ]
    }
   ],
   "source": [
    "%%time\n",
    "dsc_scraper = fin_classifier.fit(root, target_dscs, order_function=custom_order)\n",
    "url_scraper = fin_classifier.fit(root, target_urls, order_function=custom_order)"
   ]
  },
  {
   "cell_type": "code",
   "execution_count": 42,
   "metadata": {
    "collapsed": true
   },
   "outputs": [],
   "source": [
    "d_scrapers = {'dsc': dsc_scraper, 'url': url_scraper}\n",
    "d_structure = {'data':{'entry':(1,), 'other': (0,0)}, 'entry':{'url':(1,1), 'other':(0,0)}}\n",
    "fin_scraper = kas.MultiScraper(d_scrapers, d_structure)"
   ]
  },
  {
   "cell_type": "code",
   "execution_count": 7,
   "metadata": {},
   "outputs": [
    {
     "data": {
      "text/plain": [
       "(('tags', <td> at context cur at rel-depth=2, 555-0 vs 141-10),\n",
       " (('tags', <a> at context cur at rel-depth=0, 128-0 vs 13-10),\n",
       "  (('tags', <div> at context cur at rel-depth=1, 2-10 vs 11-0),\n",
       "   None,\n",
       "   (('tags', <span> at context cur at rel-depth=1, 0-10 vs 2-0), None, None)),\n",
       "  None),\n",
       " None)"
      ]
     },
     "execution_count": 7,
     "metadata": {},
     "output_type": "execute_result"
    }
   ],
   "source": [
    "url_scraper.get_split_tree()"
   ]
  },
  {
   "cell_type": "code",
   "execution_count": 8,
   "metadata": {},
   "outputs": [
    {
     "data": {
      "text/plain": [
       "(('tags', <table> at context cur at rel-depth=1, 619-0 vs 77-10),\n",
       " (('iter', <a> at fwd-iter-id=4, 75-0 vs 2-10),\n",
       "  (('iter', <a> at fwd-iter-id=2, 2-0 vs 0-10), None, None),\n",
       "  None),\n",
       " None)"
      ]
     },
     "execution_count": 8,
     "metadata": {},
     "output_type": "execute_result"
    }
   ],
   "source": [
    "dsc_scraper.get_split_tree()"
   ]
  },
  {
   "cell_type": "code",
   "execution_count": 43,
   "metadata": {},
   "outputs": [
    {
     "name": "stdout",
     "output_type": "stream",
     "text": [
      "hit none in MultiScraper.induce_hierarchy_step - check adequacy\n",
      "hit none in MultiScraper.induce_hierarchy_step - check adequacy\n",
      "hit none in MultiScraper.induce_hierarchy_step - check adequacy\n",
      "hit none in MultiScraper.induce_hierarchy_step - check adequacy\n",
      "hit none in MultiScraper.induce_hierarchy_step - check adequacy\n",
      "hit none in MultiScraper.induce_hierarchy_step - check adequacy\n",
      "hit none in MultiScraper.induce_hierarchy_step - check adequacy\n",
      "hit none in MultiScraper.induce_hierarchy_step - check adequacy\n",
      "hit none in MultiScraper.induce_hierarchy_step - check adequacy\n",
      "hit none in MultiScraper.induce_hierarchy_step - check adequacy\n"
     ]
    }
   ],
   "source": [
    "res = fin_scraper.parse(root)"
   ]
  },
  {
   "cell_type": "code",
   "execution_count": 14,
   "metadata": {},
   "outputs": [],
   "source": []
  },
  {
   "cell_type": "code",
   "execution_count": null,
   "metadata": {
    "collapsed": true
   },
   "outputs": [],
   "source": []
  }
 ],
 "metadata": {
  "kernelspec": {
   "display_name": "Python 3",
   "language": "python",
   "name": "python3"
  },
  "language_info": {
   "codemirror_mode": {
    "name": "ipython",
    "version": 3
   },
   "file_extension": ".py",
   "mimetype": "text/x-python",
   "name": "python",
   "nbconvert_exporter": "python",
   "pygments_lexer": "ipython3",
   "version": "3.6.1"
  }
 },
 "nbformat": 4,
 "nbformat_minor": 2
}
