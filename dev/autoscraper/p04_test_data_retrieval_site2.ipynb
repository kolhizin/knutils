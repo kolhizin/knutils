{
 "cells": [
  {
   "cell_type": "code",
   "execution_count": 1,
   "metadata": {
    "collapsed": true
   },
   "outputs": [],
   "source": [
    "import sys\n",
    "import importlib\n",
    "sys.path.append('../../')\n",
    "\n",
    "import lxml.html as html\n",
    "\n",
    "import knutils.autoscraper as kas"
   ]
  },
  {
   "cell_type": "code",
   "execution_count": 111,
   "metadata": {},
   "outputs": [
    {
     "data": {
      "text/plain": [
       "<module 'knutils.autoscraper' from '../..\\\\knutils\\\\autoscraper.py'>"
      ]
     },
     "execution_count": 111,
     "metadata": {},
     "output_type": "execute_result"
    }
   ],
   "source": [
    "importlib.reload(kas)"
   ]
  },
  {
   "cell_type": "code",
   "execution_count": 28,
   "metadata": {
    "collapsed": true
   },
   "outputs": [],
   "source": [
    "def make_classifier(root, rel_depth=5, fwditer_num=20):\n",
    "    depth_stats, tag_stats, attrk_stats, attrv_stats, attrkv_stats = kas.AutoScraper.get_stats(root)\n",
    "\n",
    "    p_used_tags = ['a','td','img','tr','div','table','script','meta','span','link','input','center','param',\n",
    "                   'html','head','title','body','form','object','embed']\n",
    "    t_used_attrk = ['class', 'id', 'name', 'title', 'type']\n",
    "    t_used_attrv_raw = [z for (k, v) in attrkv_stats.items() if k in t_used_attrk for (z, n) in v]\n",
    "    t_used_attrv = list(set(t_used_attrv_raw))\n",
    "    p_used_attrkv = [(k, v) for k in t_used_attrk for v in t_used_attrv if v in [x[0] for x in attrkv_stats[k]]]\n",
    "\n",
    "    p_context = [('cur', lambda p: p),\n",
    "                 ('prev-1', lambda p: kas.AutoScraper.get_sibling(p, -1)),\n",
    "                 ('next-1', lambda p: kas.AutoScraper.get_sibling(p, +1)),\n",
    "                ('child-0',lambda p: kas.AutoScraper.get_child(p, 0)),\n",
    "                 ('child-1',lambda p: kas.AutoScraper.get_child(p, 1)),\n",
    "                 ('child-2',lambda p: kas.AutoScraper.get_child(p, 2))]\n",
    "    classifier1 = kas.ParentRelClassifier(kas.ContextClassifier(kas.TagClassifier(p_used_tags), p_context), rel_depth)\n",
    "    classifier2 = kas.ParentRelClassifier(kas.ContextClassifier(kas.AttribClassifier(p_used_attrkv), p_context), rel_depth)\n",
    "    classifier3 = kas.FwdIterClassifier(kas.TagClassifier(p_used_tags), fwditer_num)\n",
    "    return kas.AutoScraper({'tags':classifier1, 'attrs':classifier2, 'iter':classifier3})\n",
    "    \n",
    "def custom_order(clsf_name, split, split_stat):\n",
    "    res = kas.SplitStat.calc_gini(clsf_name, split, split_stat)\n",
    "    \n",
    "    if clsf_name=='iter':\n",
    "        if split.base().tag_name() == 'other':\n",
    "            res *= 0.1\n",
    "        res *= 0.25\n",
    "    elif clsf_name=='tags':\n",
    "        if split.base().base().tag_name()=='other':\n",
    "            res *= 0.1\n",
    "            \n",
    "    if clsf_name in ('tags', 'attrs'):\n",
    "        if split.base().name() != 'cur':\n",
    "            res *= 0.1\n",
    "            \n",
    "    if clsf_name == 'attrs':\n",
    "        if 'news-id-' in split.base().base().value_name():\n",
    "            res = 0\n",
    "    \n",
    "    return res"
   ]
  },
  {
   "cell_type": "code",
   "execution_count": 29,
   "metadata": {
    "collapsed": true
   },
   "outputs": [],
   "source": [
    "root = html.parse('../../../DataSets/SiteSample/S2/Data.html')"
   ]
  },
  {
   "cell_type": "code",
   "execution_count": 30,
   "metadata": {},
   "outputs": [],
   "source": [
    "#link to data\n",
    "target_pics = []\n",
    "target_cmts = []\n",
    "for x in root.iter():\n",
    "    if x.tag=='a' and 'href' in x.attrib and 'displayimage' in x.attrib['href']:\n",
    "        target_pics.append(x)\n",
    "    if x.text is not None and 'Сегодня' in x.text:\n",
    "        target_cmts.append(x.getparent().getparent())"
   ]
  },
  {
   "cell_type": "code",
   "execution_count": 31,
   "metadata": {
    "collapsed": true
   },
   "outputs": [],
   "source": [
    "fin_classifier = make_classifier(root)"
   ]
  },
  {
   "cell_type": "code",
   "execution_count": 32,
   "metadata": {},
   "outputs": [
    {
     "name": "stdout",
     "output_type": "stream",
     "text": [
      "Wall time: 4 s\n"
     ]
    }
   ],
   "source": [
    "%%time\n",
    "pic_scraper = fin_classifier.fit(root, target_pics, order_function=custom_order)\n",
    "cmt_scraper = fin_classifier.fit(root, target_cmts, order_function=custom_order)"
   ]
  },
  {
   "cell_type": "code",
   "execution_count": 33,
   "metadata": {},
   "outputs": [
    {
     "data": {
      "text/plain": [
       "(('attrs', id=dle-content at context cur at rel-depth=1, 312-0 vs 6-3),\n",
       " (('tags', <div> at context cur at rel-depth=0, 5-0 vs 1-3),\n",
       "  (('iter', <a> at fwd-iter-id=2, 1-0 vs 0-3), None, None),\n",
       "  None),\n",
       " None)"
      ]
     },
     "execution_count": 33,
     "metadata": {},
     "output_type": "execute_result"
    }
   ],
   "source": [
    "cmt_scraper.get_split_tree()"
   ]
  },
  {
   "cell_type": "code",
   "execution_count": 34,
   "metadata": {},
   "outputs": [
    {
     "data": {
      "text/plain": [
       "(('attrs', id=fullstory at context cur at rel-depth=3, 302-0 vs 12-7),\n",
       " (('tags', <a> at context cur at rel-depth=0, 12-0 vs 0-7), None, None),\n",
       " None)"
      ]
     },
     "execution_count": 34,
     "metadata": {},
     "output_type": "execute_result"
    }
   ],
   "source": [
    "pic_scraper.get_split_tree()"
   ]
  },
  {
   "cell_type": "code",
   "execution_count": 112,
   "metadata": {},
   "outputs": [],
   "source": [
    "d_scrapers = {'comment': cmt_scraper, 'picture': pic_scraper}\n",
    "d_structure = [({'picture':(1,), 'other':(0,0)}, 'pics'),\n",
    "              ({'comment':(0,), 'pics':(1,1), 'other':(0,0)},\n",
    "              lambda x: kas.ScraperNode('data', x.elem(), x.get_list('comment') + x.get('pics').get_list('picture')))]\n",
    "fin_scraper = kas.MultiScraper(d_scrapers, d_structure)"
   ]
  },
  {
   "cell_type": "code",
   "execution_count": 114,
   "metadata": {},
   "outputs": [],
   "source": [
    "res = fin_scraper.parse(root)"
   ]
  },
  {
   "cell_type": "code",
   "execution_count": 115,
   "metadata": {},
   "outputs": [
    {
     "data": {
      "text/plain": [
       "[picture(<Element a at 0x29b3f14ad68>),\n",
       " picture(<Element a at 0x29b3f0a7d68>),\n",
       " picture(<Element a at 0x29b3f14a818>),\n",
       " picture(<Element a at 0x29b3f14acc8>),\n",
       " picture(<Element a at 0x29b3f3eb4f8>),\n",
       " picture(<Element a at 0x29b3f3eb458>),\n",
       " picture(<Element a at 0x29b3f3eb228>),\n",
       " comment(<Element div at 0x29b3f161368>),\n",
       " comment(<Element div at 0x29b3f1616d8>),\n",
       " comment(<Element div at 0x29b3f161728>)]"
      ]
     },
     "execution_count": 115,
     "metadata": {},
     "output_type": "execute_result"
    }
   ],
   "source": [
    "res.get_all()"
   ]
  }
 ],
 "metadata": {
  "kernelspec": {
   "display_name": "Python 3",
   "language": "python",
   "name": "python3"
  },
  "language_info": {
   "codemirror_mode": {
    "name": "ipython",
    "version": 3
   },
   "file_extension": ".py",
   "mimetype": "text/x-python",
   "name": "python",
   "nbconvert_exporter": "python",
   "pygments_lexer": "ipython3",
   "version": "3.6.1"
  }
 },
 "nbformat": 4,
 "nbformat_minor": 2
}
