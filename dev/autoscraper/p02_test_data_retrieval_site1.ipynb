{
 "cells": [
  {
   "cell_type": "code",
   "execution_count": 1,
   "metadata": {
    "collapsed": true
   },
   "outputs": [],
   "source": [
    "import sys\n",
    "import importlib\n",
    "sys.path.append('../../')\n",
    "\n",
    "import lxml.html as html\n",
    "\n",
    "import knutils.autoscraper as kas"
   ]
  },
  {
   "cell_type": "code",
   "execution_count": 2,
   "metadata": {},
   "outputs": [
    {
     "data": {
      "text/plain": [
       "<module 'knutils.autoscraper' from '../..\\\\knutils\\\\autoscraper.py'>"
      ]
     },
     "execution_count": 2,
     "metadata": {},
     "output_type": "execute_result"
    }
   ],
   "source": [
    "importlib.reload(kas)"
   ]
  },
  {
   "cell_type": "code",
   "execution_count": 3,
   "metadata": {
    "collapsed": true
   },
   "outputs": [],
   "source": [
    "root = html.parse('../../../DataSets/SiteSample/S1/Data.html')"
   ]
  },
  {
   "cell_type": "code",
   "execution_count": 5,
   "metadata": {},
   "outputs": [
    {
     "name": "stdout",
     "output_type": "stream",
     "text": [
      "http://192.162.139.50/content/photo/photo/vspominaya_leto_71/1.jpg\n",
      "http://192.162.139.50/content/photo/photo/vspominaya_leto_71/2.jpg\n",
      "http://192.162.139.50/content/photo/photo/vspominaya_leto_71/3.jpg\n",
      "http://192.162.139.50/content/photo/photo/vspominaya_leto_71/4.jpg\n",
      "http://192.162.139.50/content/photo/photo/vspominaya_leto_71/5.jpg\n",
      "http://192.162.139.50/content/photo/photo/vspominaya_leto_71/6.jpg\n",
      "http://192.162.139.50/content/photo/photo/vspominaya_leto_71/7.jpg\n",
      "http://192.162.139.50/content/photo/photo/vspominaya_leto_71/8.jpg\n",
      "http://192.162.139.50/content/photo/photo/vspominaya_leto_71/9.jpg\n",
      "http://192.162.139.50/content/photo/photo/vspominaya_leto_71/10.jpg\n",
      "http://192.162.139.50/content/photo/photo/vspominaya_leto_71/11.jpg\n",
      "http://192.162.139.50/content/photo/photo/vspominaya_leto_71/12.jpg\n",
      "http://192.162.139.50/content/photo/photo/vspominaya_leto_71/13.jpg\n",
      "http://192.162.139.50/content/photo/photo/vspominaya_leto_71/14.jpg\n",
      "http://192.162.139.50/content/photo/photo/vspominaya_leto_71/15.jpg\n",
      "http://192.162.139.50/content/photo/photo/vspominaya_leto_71/16.jpg\n",
      "http://192.162.139.50/content/photo/photo/vspominaya_leto_71/17.jpg\n",
      "http://192.162.139.50/content/photo/photo/vspominaya_leto_71/18.jpg\n",
      "http://192.162.139.50/content/photo/photo/vspominaya_leto_71/19.jpg\n",
      "http://192.162.139.50/content/photo/photo/vspominaya_leto_71/20.jpg\n",
      "http://192.162.139.50/content/photo/photo/vspominaya_leto_71/21.jpg\n",
      "http://192.162.139.50/content/photo/photo/vspominaya_leto_71/22.jpg\n",
      "http://192.162.139.50/content/photo/photo/vspominaya_leto_71/23.jpg\n",
      "http://192.162.139.50/content/photo/photo/vspominaya_leto_71/24.jpg\n",
      "http://192.162.139.50/content/photo/photo/vspominaya_leto_71/25.jpg\n",
      "http://192.162.139.50/content/photo/photo/vspominaya_leto_71/26.jpg\n",
      "http://192.162.139.50/content/photo/photo/vspominaya_leto_71/27.jpg\n",
      "http://192.162.139.50/content/photo/photo/vspominaya_leto_71/28.jpg\n",
      "http://192.162.139.50/content/photo/photo/vspominaya_leto_71/29.jpg\n",
      "http://192.162.139.50/content/photo/photo/vspominaya_leto_71/30.jpg\n",
      "http://192.162.139.50/content/photo/photo/vspominaya_leto_71/31.jpg\n",
      "http://192.162.139.50/content/photo/photo/vspominaya_leto_71/32.jpg\n",
      "http://192.162.139.50/content/photo/photo/vspominaya_leto_71/33.jpg\n",
      "http://192.162.139.50/content/photo/photo/vspominaya_leto_71/34.jpg\n",
      "http://192.162.139.50/content/photo/photo/vspominaya_leto_71/35.jpg\n",
      "http://192.162.139.50/content/photo/photo/vspominaya_leto_71/36.jpg\n",
      "http://192.162.139.50/content/photo/photo/vspominaya_leto_71/37.jpg\n",
      "http://192.162.139.50/content/photo/photo/vspominaya_leto_71/38.jpg\n",
      "http://192.162.139.50/content/photo/photo/vspominaya_leto_71/39.jpg\n"
     ]
    }
   ],
   "source": [
    "#set labels\n",
    "target_urls = []\n",
    "\n",
    "for x in root.iter():\n",
    "    if x.tag == 'img' and '192.162' in x.attrib['src']:\n",
    "        target_urls.append(x)"
   ]
  },
  {
   "cell_type": "code",
   "execution_count": 9,
   "metadata": {
    "collapsed": true
   },
   "outputs": [],
   "source": [
    "depth_stats, tag_stats, attrk_stats, attrv_stats, attrkv_stats = kas.AutoScraper.get_stats(root)\n",
    "\n",
    "p_max_depth = max([d for (d, n) in depth_stats if n > 1])\n",
    "p_used_tags = [x for (x, n) in tag_stats if type(x) is str]\n",
    "for t in ['br', 'b']:\n",
    "    p_used_tags.remove(t)\n",
    "t_used_attrk = ['class', 'id', 'name', 'title', 'type']\n",
    "t_used_attrv_raw = [z for (k, v) in attrkv_stats.items() if k in t_used_attrk for (z, n) in v]\n",
    "t_used_attrv = list(set(t_used_attrv_raw))\n",
    "p_used_attrkv = [(k, v) for k in t_used_attrk for v in t_used_attrv if v in [x[0] for x in attrkv_stats[k]]]\n",
    "\n",
    "p_context = [('cur', lambda p: p),\n",
    "             ('prev-1', lambda p: kas.AutoScraper.get_sibling(p, -1)),('next-1', lambda p: kas.AutoScraper.get_sibling(p, +1)),\n",
    "            ('child-0',lambda p: kas.AutoScraper.get_child(p, 0)),\n",
    "             ('child-1',lambda p: kas.AutoScraper.get_child(p, 1)),\n",
    "             ('child-2',lambda p: kas.AutoScraper.get_child(p, 2))]\n",
    "\n",
    "def custom_order(clsf_name, split, split_stat):\n",
    "    res = kas.SplitStat.calc_gini(clsf_name, split, split_stat)\n",
    "    \n",
    "    if clsf_name=='iter':\n",
    "        if split.base().tag_name() == 'other':\n",
    "            res *= 0.1\n",
    "    elif clsf_name=='tags':\n",
    "        if split.base().base().tag_name()=='other':\n",
    "            res *= 0.1\n",
    "            \n",
    "    if clsf_name in ('tags', 'attrs'):\n",
    "        if split.base().name() != 'cur':\n",
    "            res *= 0.1\n",
    "    \n",
    "    return res"
   ]
  },
  {
   "cell_type": "code",
   "execution_count": 10,
   "metadata": {
    "collapsed": true
   },
   "outputs": [],
   "source": [
    "classifier1 = kas.ParentRelClassifier(kas.ContextClassifier(kas.TagClassifier(p_used_tags), p_context), 5)\n",
    "classifier2 = kas.ParentRelClassifier(kas.ContextClassifier(kas.AttribClassifier(p_used_attrkv), p_context), 5)\n",
    "classifier3 = kas.FwdIterClassifier(kas.TagClassifier(p_used_tags), 20)\n",
    "fin_classifier = kas.AutoScraper({'tags':classifier1, 'attrs':classifier2, 'iter':classifier3})"
   ]
  },
  {
   "cell_type": "code",
   "execution_count": 11,
   "metadata": {},
   "outputs": [
    {
     "name": "stdout",
     "output_type": "stream",
     "text": [
      "Wall time: 4.54 s\n"
     ]
    }
   ],
   "source": [
    "%%time\n",
    "url_scraper = fin_classifier.fit(root, target_urls, order_function=custom_order)\n",
    "d_scrapers = {'url': url_scraper}\n",
    "d_structure = {'data':{'url':(1,), 'other': (0,0)}}\n",
    "fin_scraper = kas.MultiScraper(d_scrapers, d_structure)"
   ]
  },
  {
   "cell_type": "code",
   "execution_count": 12,
   "metadata": {},
   "outputs": [
    {
     "data": {
      "text/plain": [
       "(('tags', <img> at context cur at rel-depth=0, 467-0 vs 48-39),\n",
       " (('attrs', class=txt-main at context cur at rel-depth=1, 48-0 vs 0-39),\n",
       "  None,\n",
       "  None),\n",
       " None)"
      ]
     },
     "execution_count": 12,
     "metadata": {},
     "output_type": "execute_result"
    }
   ],
   "source": [
    "url_scraper.get_split_tree()"
   ]
  },
  {
   "cell_type": "code",
   "execution_count": 21,
   "metadata": {},
   "outputs": [
    {
     "name": "stdout",
     "output_type": "stream",
     "text": [
      "data(<Element div at 0x269640775e8>) with {'url': [url(<Element img at 0x26964099048>), url(<Element img at 0x26964099098>), url(<Element img at 0x2696408b8b8>), url(<Element img at 0x269640990e8>), url(<Element img at 0x2696408b908>), url(<Element img at 0x26964099138>), url(<Element img at 0x2696408b958>), url(<Element img at 0x26964099188>), url(<Element img at 0x2696408b9a8>), url(<Element img at 0x269640991d8>), url(<Element img at 0x2696408b9f8>), url(<Element img at 0x26964099228>), url(<Element img at 0x2696408ba48>), url(<Element img at 0x26964099278>), url(<Element img at 0x2696408ba98>), url(<Element img at 0x269640992c8>), url(<Element img at 0x2696408bae8>), url(<Element img at 0x26964099318>), url(<Element img at 0x2696408bb38>), url(<Element img at 0x26964099368>), url(<Element img at 0x2696408bb88>), url(<Element img at 0x269640993b8>), url(<Element img at 0x2696408bbd8>), url(<Element img at 0x26964099408>), url(<Element img at 0x2696408bc28>), url(<Element img at 0x26964099458>), url(<Element img at 0x2696408bc78>), url(<Element img at 0x269640994a8>), url(<Element img at 0x2696408bcc8>), url(<Element img at 0x2696408bd18>), url(<Element img at 0x2696408bd68>), url(<Element img at 0x2696408bdb8>), url(<Element img at 0x2696408be08>), url(<Element img at 0x2696408be58>), url(<Element img at 0x2696408bea8>), url(<Element img at 0x2696408bef8>), url(<Element img at 0x2696408bf48>), url(<Element img at 0x2696408b778>), url(<Element img at 0x2696408bf98>)]}\n",
      "Wall time: 51.9 ms\n"
     ]
    }
   ],
   "source": [
    "%%time\n",
    "res = fin_scraper.parse(root)\n",
    "print(res)"
   ]
  },
  {
   "cell_type": "code",
   "execution_count": null,
   "metadata": {
    "collapsed": true
   },
   "outputs": [],
   "source": []
  }
 ],
 "metadata": {
  "kernelspec": {
   "display_name": "Python 3",
   "language": "python",
   "name": "python3"
  },
  "language_info": {
   "codemirror_mode": {
    "name": "ipython",
    "version": 3
   },
   "file_extension": ".py",
   "mimetype": "text/x-python",
   "name": "python",
   "nbconvert_exporter": "python",
   "pygments_lexer": "ipython3",
   "version": "3.6.1"
  }
 },
 "nbformat": 4,
 "nbformat_minor": 2
}
