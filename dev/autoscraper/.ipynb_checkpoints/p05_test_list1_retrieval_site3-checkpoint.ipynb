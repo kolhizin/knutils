{
 "cells": [
  {
   "cell_type": "code",
   "execution_count": 1,
   "metadata": {
    "collapsed": true
   },
   "outputs": [],
   "source": [
    "import sys\n",
    "import importlib\n",
    "sys.path.append('../../')\n",
    "\n",
    "import lxml.html as html\n",
    "\n",
    "import knutils.autoscraper as kas"
   ]
  },
  {
   "cell_type": "code",
   "execution_count": 80,
   "metadata": {},
   "outputs": [
    {
     "data": {
      "text/plain": [
       "<module 'knutils.autoscraper' from '../..\\\\knutils\\\\autoscraper.py'>"
      ]
     },
     "execution_count": 80,
     "metadata": {},
     "output_type": "execute_result"
    }
   ],
   "source": [
    "importlib.reload(kas)"
   ]
  },
  {
   "cell_type": "code",
   "execution_count": 36,
   "metadata": {
    "collapsed": true
   },
   "outputs": [],
   "source": [
    "def make_classifier(root, rel_depth=5, fwditer_num=20):\n",
    "    depth_stats, tag_stats, attrk_stats, attrv_stats, attrkv_stats = kas.AutoScraper.get_stats(root)\n",
    "\n",
    "    p_used_tags = ['a','td','img','tr','div','table','script','meta','span','link','input','center','param',\n",
    "                   'html','head','title','body','form','object','embed']\n",
    "    t_used_attrk = ['class', 'id', 'name', 'title', 'type', 'src']\n",
    "    t_used_attrv_raw = [z for (k, v) in attrkv_stats.items() if k in t_used_attrk for (z, n) in v]\n",
    "    t_used_attrv = list(set(t_used_attrv_raw))\n",
    "    p_used_attrkv = [(k, v) for k in t_used_attrk for v in t_used_attrv if v in [x[0] for x in attrkv_stats[k]]]\n",
    "\n",
    "    p_context = [('cur', lambda p: p),\n",
    "                 ('prev-1', lambda p: kas.AutoScraper.get_sibling(p, -1)),\n",
    "                 ('next-1', lambda p: kas.AutoScraper.get_sibling(p, +1)),\n",
    "                ('child-0',lambda p: kas.AutoScraper.get_child(p, 0)),\n",
    "                 ('child-1',lambda p: kas.AutoScraper.get_child(p, 1)),\n",
    "                 ('child-2',lambda p: kas.AutoScraper.get_child(p, 2))]\n",
    "    classifier1 = kas.ParentRelClassifier(kas.ContextClassifier(kas.TagClassifier(p_used_tags), p_context), rel_depth)\n",
    "    classifier2 = kas.ParentRelClassifier(kas.ContextClassifier(kas.AttribClassifier(p_used_attrkv), p_context), rel_depth)\n",
    "    classifier3 = kas.FwdIterClassifier(kas.TagClassifier(p_used_tags), fwditer_num)\n",
    "    return kas.AutoScraper({'tags':classifier1, 'attrs':classifier2, 'iter':classifier3})\n",
    "    \n",
    "def custom_order(clsf_name, split, split_stat):\n",
    "    res = kas.SplitStat.calc_gini(clsf_name, split, split_stat)\n",
    "    \n",
    "    if clsf_name=='iter':\n",
    "        if split.base().tag_name() == 'other':\n",
    "            res *= 0.1\n",
    "        res *= 0.25\n",
    "    elif clsf_name=='tags':\n",
    "        if split.base().base().tag_name()=='other':\n",
    "            res *= 0.1\n",
    "            \n",
    "    if clsf_name in ('tags', 'attrs'):\n",
    "        if split.base().name() != 'cur':\n",
    "            res *= 0.1\n",
    "    \n",
    "    return res"
   ]
  },
  {
   "cell_type": "code",
   "execution_count": 5,
   "metadata": {
    "collapsed": true
   },
   "outputs": [],
   "source": [
    "root = html.parse('../../../DataSets/SiteSample/S3/List1.html')"
   ]
  },
  {
   "cell_type": "code",
   "execution_count": 35,
   "metadata": {},
   "outputs": [
    {
     "data": {
      "text/plain": [
       "(27, 40)"
      ]
     },
     "execution_count": 35,
     "metadata": {},
     "output_type": "execute_result"
    }
   ],
   "source": [
    "target_url = []\n",
    "target_dsc = []\n",
    "\n",
    "for x in root.iter():\n",
    "    if x.tag == 'a' and 'href' in x.attrib and 'view.php' in x.attrib['href']:\n",
    "        target_url.append(x)\n",
    "    if x.tail is not None and 'Размер' in x.tail:\n",
    "        target_dsc.append(x.getparent().getparent())\n",
    "len(target_url), len(target_dsc)"
   ]
  },
  {
   "cell_type": "code",
   "execution_count": 39,
   "metadata": {
    "collapsed": true
   },
   "outputs": [],
   "source": [
    "fin_classifier = make_classifier(root)"
   ]
  },
  {
   "cell_type": "code",
   "execution_count": 40,
   "metadata": {},
   "outputs": [
    {
     "name": "stdout",
     "output_type": "stream",
     "text": [
      "Wall time: 35.7 s\n"
     ]
    }
   ],
   "source": [
    "%%time\n",
    "url_scraper = fin_classifier.fit(root, target_url, order_function=custom_order)\n",
    "dsc_scraper = fin_classifier.fit(root, target_dsc, order_function=custom_order)"
   ]
  },
  {
   "cell_type": "code",
   "execution_count": 41,
   "metadata": {},
   "outputs": [
    {
     "data": {
      "text/plain": [
       "(('attrs', class=box_pic at context cur at rel-depth=1, 1817-0 vs 13-27),\n",
       " (('attrs',\n",
       "   src=/images/lock.gif at context child-0 at rel-depth=0,\n",
       "   0-27 vs 13-0),\n",
       "  None,\n",
       "  None),\n",
       " None)"
      ]
     },
     "execution_count": 41,
     "metadata": {},
     "output_type": "execute_result"
    }
   ],
   "source": [
    "url_scraper.get_split_tree()"
   ]
  },
  {
   "cell_type": "code",
   "execution_count": 42,
   "metadata": {},
   "outputs": [
    {
     "data": {
      "text/plain": [
       "(('attrs', class=box at context cur at rel-depth=4, 1737-0 vs 80-40),\n",
       " (('tags', <img> at context cur at rel-depth=0, 40-40 vs 40-0),\n",
       "  None,\n",
       "  (('attrs', class=box_head at context cur at rel-depth=1, 0-40 vs 40-0),\n",
       "   None,\n",
       "   None)),\n",
       " None)"
      ]
     },
     "execution_count": 42,
     "metadata": {},
     "output_type": "execute_result"
    }
   ],
   "source": [
    "dsc_scraper.get_split_tree()"
   ]
  },
  {
   "cell_type": "code",
   "execution_count": 217,
   "metadata": {},
   "outputs": [],
   "source": [
    "importlib.reload(kas)\n",
    "d_scrapers = {'url': url_scraper, 'dsc': dsc_scraper}\n",
    "d_structure = [({'url':(1,1), 'dsc':(1,1), 'other':(0,0)}, 'entry'),\n",
    "               ({'entry':(0,), 'dsc':(0,), 'other':(0,0)}, lambda x: kas.ScraperNode('lst', x.elem(), \n",
    "                     [y for y in x.get_list('entry')] +\n",
    "                    [kas.ScraperNode('entry', y.elem().getparent(), [y]) for y in x.get_list('dsc')])),\n",
    "               ({'lst':(1,), 'other':(0,0)}, lambda x: kas.ScraperNode('lst', x.elem(),\n",
    "                    sum([z.get_all() for z in x.get_list('lst')],[]))\n",
    "               )]\n",
    "fin_scraper = kas.MultiScraper(d_scrapers, d_structure)"
   ]
  },
  {
   "cell_type": "code",
   "execution_count": 219,
   "metadata": {},
   "outputs": [
    {
     "name": "stdout",
     "output_type": "stream",
     "text": [
      "Wall time: 358 ms\n"
     ]
    }
   ],
   "source": [
    "%%time\n",
    "r = fin_scraper.parse(root)"
   ]
  }
 ],
 "metadata": {
  "kernelspec": {
   "display_name": "Python 3",
   "language": "python",
   "name": "python3"
  },
  "language_info": {
   "codemirror_mode": {
    "name": "ipython",
    "version": 3
   },
   "file_extension": ".py",
   "mimetype": "text/x-python",
   "name": "python",
   "nbconvert_exporter": "python",
   "pygments_lexer": "ipython3",
   "version": "3.6.1"
  }
 },
 "nbformat": 4,
 "nbformat_minor": 2
}
