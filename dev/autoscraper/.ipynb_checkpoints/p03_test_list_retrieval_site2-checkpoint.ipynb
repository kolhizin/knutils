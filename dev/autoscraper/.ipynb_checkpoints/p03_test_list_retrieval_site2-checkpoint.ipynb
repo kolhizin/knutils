{
 "cells": [
  {
   "cell_type": "code",
   "execution_count": 1,
   "metadata": {
    "collapsed": true
   },
   "outputs": [],
   "source": [
    "import sys\n",
    "import importlib\n",
    "sys.path.append('../../')\n",
    "\n",
    "import lxml.html as html\n",
    "\n",
    "import knutils.autoscraper as kas"
   ]
  },
  {
   "cell_type": "code",
   "execution_count": 140,
   "metadata": {},
   "outputs": [
    {
     "data": {
      "text/plain": [
       "<module 'knutils.autoscraper' from '../..\\\\knutils\\\\autoscraper.py'>"
      ]
     },
     "execution_count": 140,
     "metadata": {},
     "output_type": "execute_result"
    }
   ],
   "source": [
    "importlib.reload(kas)"
   ]
  },
  {
   "cell_type": "code",
   "execution_count": 136,
   "metadata": {
    "collapsed": true
   },
   "outputs": [],
   "source": [
    "def make_classifier(root, rel_depth=5, fwditer_num=20):\n",
    "    depth_stats, tag_stats, attrk_stats, attrv_stats, attrkv_stats = kas.AutoScraper.get_stats(root)\n",
    "\n",
    "    p_used_tags = ['a','td','img','tr','div','table','script','meta','span','link','input','center','param',\n",
    "                   'html','head','title','body','form','object','embed']\n",
    "    t_used_attrk = ['class', 'id', 'name', 'title', 'type']\n",
    "    t_used_attrv_raw = [z for (k, v) in attrkv_stats.items() if k in t_used_attrk for (z, n) in v]\n",
    "    t_used_attrv = list(set(t_used_attrv_raw))\n",
    "    p_used_attrkv = [(k, v) for k in t_used_attrk for v in t_used_attrv if v in [x[0] for x in attrkv_stats[k]]]\n",
    "\n",
    "    p_context = [('cur', lambda p: p),\n",
    "                 ('prev-1', lambda p: kas.AutoScraper.get_sibling(p, -1)),\n",
    "                 ('next-1', lambda p: kas.AutoScraper.get_sibling(p, +1)),\n",
    "                ('child-0',lambda p: kas.AutoScraper.get_child(p, 0)),\n",
    "                 ('child-1',lambda p: kas.AutoScraper.get_child(p, 1)),\n",
    "                 ('child-2',lambda p: kas.AutoScraper.get_child(p, 2))]\n",
    "    classifier1 = kas.ParentRelClassifier(kas.ContextClassifier(kas.TagClassifier(p_used_tags), p_context), rel_depth)\n",
    "    classifier2 = kas.ParentRelClassifier(kas.ContextClassifier(kas.AttribClassifier(p_used_attrkv), p_context), rel_depth)\n",
    "    classifier3 = kas.FwdIterClassifier(kas.TagClassifier(p_used_tags), fwditer_num)\n",
    "    return kas.AutoScraper({'tags':classifier1, 'attrs':classifier2, 'iter':classifier3})\n",
    "    \n",
    "def custom_order(clsf_name, split, split_stat):\n",
    "    res = kas.SplitStat.calc_gini(clsf_name, split, split_stat)\n",
    "    \n",
    "    if clsf_name=='iter':\n",
    "        if split.base().tag_name() == 'other':\n",
    "            res *= 0.1\n",
    "        res *= 0.25\n",
    "    elif clsf_name=='tags':\n",
    "        if split.base().base().tag_name()=='other':\n",
    "            res *= 0.1\n",
    "            \n",
    "    if clsf_name in ('tags', 'attrs'):\n",
    "        if split.base().name() != 'cur':\n",
    "            res *= 0.1\n",
    "    \n",
    "    return res"
   ]
  },
  {
   "cell_type": "code",
   "execution_count": 76,
   "metadata": {
    "collapsed": true
   },
   "outputs": [],
   "source": [
    "root = html.parse('../../../DataSets/SiteSample/S2/List.html')"
   ]
  },
  {
   "cell_type": "code",
   "execution_count": 77,
   "metadata": {},
   "outputs": [],
   "source": [
    "#link to data\n",
    "target_entries = []\n",
    "for x in root.iter():\n",
    "    if x.text is not None and 'Вчера' in x.text:\n",
    "        target_entries.append(x.getparent())"
   ]
  },
  {
   "cell_type": "code",
   "execution_count": 78,
   "metadata": {},
   "outputs": [],
   "source": [
    "fin_classifier = make_classifier(root)"
   ]
  },
  {
   "cell_type": "code",
   "execution_count": 141,
   "metadata": {},
   "outputs": [
    {
     "name": "stdout",
     "output_type": "stream",
     "text": [
      "Wall time: 4.59 s\n"
     ]
    }
   ],
   "source": [
    "%%time\n",
    "entry_scraper = fin_classifier.fit(root, target_entries, order_function=custom_order)\n",
    "d_scrapers = {'entry': entry_scraper}\n",
    "d_structure = {'data':{'entry':(1,), 'other': (0,0)}}\n",
    "fin_scraper = kas.MultiScraper(d_scrapers, d_structure)"
   ]
  },
  {
   "cell_type": "code",
   "execution_count": 65,
   "metadata": {},
   "outputs": [
    {
     "data": {
      "text/plain": [
       "(('tags', <table> at context cur at rel-depth=1, 619-0 vs 77-10),\n",
       " (('iter', <a> at fwd-iter-id=4, 75-0 vs 2-10),\n",
       "  (('iter', <a> at fwd-iter-id=2, 2-0 vs 0-10), None, None),\n",
       "  None),\n",
       " None)"
      ]
     },
     "execution_count": 65,
     "metadata": {},
     "output_type": "execute_result"
    }
   ],
   "source": [
    "entry_scraper.get_split_tree()"
   ]
  },
  {
   "cell_type": "code",
   "execution_count": 81,
   "metadata": {},
   "outputs": [],
   "source": [
    "tmp = entry_scraper.select(root)\n",
    "tmp = [(x, 'elem') for x in tmp]"
   ]
  },
  {
   "cell_type": "code",
   "execution_count": 144,
   "metadata": {
    "collapsed": true
   },
   "outputs": [],
   "source": [
    "tmp1 = kas.MultiScraper.induce_hierarchy(tmp)"
   ]
  },
  {
   "cell_type": "code",
   "execution_count": 150,
   "metadata": {},
   "outputs": [
    {
     "data": {
      "text/plain": [
       "[368]"
      ]
     },
     "execution_count": 150,
     "metadata": {},
     "output_type": "execute_result"
    }
   ],
   "source": [
    "z = tmp1[2][4][0]\n",
    "[i for (i,x) in enumerate(tmp1[0].getparent().getparent().getparent().getparent().iter()) if x==z]"
   ]
  },
  {
   "cell_type": "code",
   "execution_count": 106,
   "metadata": {},
   "outputs": [
    {
     "data": {
      "text/plain": [
       "1"
      ]
     },
     "execution_count": 106,
     "metadata": {},
     "output_type": "execute_result"
    }
   ],
   "source": [
    "tmp1[2][0][0].getparent().index(tmp1[2][0][0])"
   ]
  },
  {
   "cell_type": "code",
   "execution_count": 107,
   "metadata": {
    "collapsed": true
   },
   "outputs": [],
   "source": [
    "x = tmp1[2][0][0]"
   ]
  },
  {
   "cell_type": "code",
   "execution_count": 120,
   "metadata": {},
   "outputs": [],
   "source": [
    "x1 = x.getroottree()"
   ]
  },
  {
   "cell_type": "code",
   "execution_count": 124,
   "metadata": {},
   "outputs": [
    {
     "data": {
      "text/plain": [
       "379"
      ]
     },
     "execution_count": 124,
     "metadata": {},
     "output_type": "execute_result"
    }
   ],
   "source": [
    "min([i for (i, z) in enumerate(x1.getroottree().getroot().iter()) if z == x])"
   ]
  },
  {
   "cell_type": "code",
   "execution_count": 62,
   "metadata": {},
   "outputs": [
    {
     "name": "stdout",
     "output_type": "stream",
     "text": [
      "http://palevo.com/index.php?newsid=13717\n",
      "0\n",
      "http://palevo.com/index.php?do=cat&category=2\n",
      "2\n",
      "http://palevo.com/index.php?newsid=13717#comment\n",
      "3\n"
     ]
    }
   ],
   "source": [
    "for x in tmp1[2][0][0].iter():\n",
    "    if x.tag=='a':\n",
    "        print(x.attrib['href'])\n",
    "        print(x.getparent().index(x))"
   ]
  },
  {
   "cell_type": "code",
   "execution_count": 20,
   "metadata": {},
   "outputs": [
    {
     "ename": "TypeError",
     "evalue": "'<' not supported between instances of 'HtmlElement' and 'HtmlElement'",
     "output_type": "error",
     "traceback": [
      "\u001b[1;31m---------------------------------------------------------------------------\u001b[0m",
      "\u001b[1;31mTypeError\u001b[0m                                 Traceback (most recent call last)",
      "\u001b[1;32m<ipython-input-20-953de52b0135>\u001b[0m in \u001b[0;36m<module>\u001b[1;34m()\u001b[0m\n\u001b[1;32m----> 1\u001b[1;33m \u001b[0mres\u001b[0m\u001b[1;33m[\u001b[0m\u001b[1;34m'entry'\u001b[0m\u001b[1;33m]\u001b[0m\u001b[1;33m[\u001b[0m\u001b[1;36m5\u001b[0m\u001b[1;33m]\u001b[0m\u001b[1;33m.\u001b[0m\u001b[0melem\u001b[0m\u001b[1;33m(\u001b[0m\u001b[1;33m)\u001b[0m \u001b[1;33m<\u001b[0m \u001b[0mres\u001b[0m\u001b[1;33m[\u001b[0m\u001b[1;34m'entry'\u001b[0m\u001b[1;33m]\u001b[0m\u001b[1;33m[\u001b[0m\u001b[1;36m6\u001b[0m\u001b[1;33m]\u001b[0m\u001b[1;33m.\u001b[0m\u001b[0melem\u001b[0m\u001b[1;33m(\u001b[0m\u001b[1;33m)\u001b[0m\u001b[1;33m\u001b[0m\u001b[0m\n\u001b[0m",
      "\u001b[1;31mTypeError\u001b[0m: '<' not supported between instances of 'HtmlElement' and 'HtmlElement'"
     ]
    }
   ],
   "source": [
    "res['entry'][5].elem() < res['entry'][6].elem()"
   ]
  },
  {
   "cell_type": "code",
   "execution_count": 142,
   "metadata": {},
   "outputs": [
    {
     "name": "stdout",
     "output_type": "stream",
     "text": [
      "{'entry': [(entry(<Element tr at 0x296104f80e8>), 0), (entry(<Element tr at 0x296105164a8>), 0), (entry(<Element tr at 0x29610516458>), 0), (entry(<Element tr at 0x296105167c8>), 0), (entry(<Element tr at 0x296105164f8>), 0), (entry(<Element tr at 0x296106ab7c8>), 0), (entry(<Element tr at 0x29610516638>), 0), (entry(<Element tr at 0x296104f8048>), 0), (entry(<Element tr at 0x29610516408>), 0), (entry(<Element tr at 0x29610516778>), 0)]}\n"
     ]
    }
   ],
   "source": [
    "res = fin_scraper.parse(root)"
   ]
  },
  {
   "cell_type": "code",
   "execution_count": 143,
   "metadata": {},
   "outputs": [
    {
     "data": {
      "text/plain": [
       "data(<Element table at 0x2960ef08778>) with {'entry': [entry(<Element tr at 0x296104f80e8>), entry(<Element tr at 0x296105164a8>), entry(<Element tr at 0x29610516458>), entry(<Element tr at 0x296105167c8>), entry(<Element tr at 0x296105164f8>), entry(<Element tr at 0x296106ab7c8>), entry(<Element tr at 0x29610516638>), entry(<Element tr at 0x296104f8048>), entry(<Element tr at 0x29610516408>), entry(<Element tr at 0x29610516778>)]}"
      ]
     },
     "execution_count": 143,
     "metadata": {},
     "output_type": "execute_result"
    }
   ],
   "source": [
    "res"
   ]
  },
  {
   "cell_type": "code",
   "execution_count": 134,
   "metadata": {},
   "outputs": [
    {
     "name": "stdout",
     "output_type": "stream",
     "text": [
      "http://palevo.com/index.php?newsid=13711\n",
      "http://palevo.com/index.php?do=cat&category=2\n",
      "http://palevo.com/index.php?newsid=13711#comment\n",
      "http://palevo.com/index.php?newsid=13714\n",
      "http://palevo.com/index.php?do=cat&category=2\n",
      "http://palevo.com/index.php?newsid=13714#comment\n",
      "http://palevo.com/index.php?newsid=13718\n",
      "http://palevo.com/index.php?do=cat&category=2\n",
      "http://palevo.com/index.php?newsid=13718#comment\n",
      "http://palevo.com/index.php?newsid=13719\n",
      "http://palevo.com/index.php?do=cat&category=2\n",
      "http://palevo.com/index.php?newsid=13719#comment\n",
      "http://palevo.com/index.php?newsid=13712\n",
      "http://palevo.com/index.php?do=cat&category=2\n",
      "http://palevo.com/index.php?newsid=13712#comment\n",
      "http://palevo.com/index.php?newsid=13716\n",
      "http://palevo.com/index.php?do=cat&category=2\n",
      "http://palevo.com/index.php?newsid=13716#comment\n",
      "http://palevo.com/index.php?newsid=13715\n",
      "http://palevo.com/index.php?do=cat&category=2\n",
      "http://palevo.com/index.php?newsid=13715#comment\n",
      "http://palevo.com/index.php?newsid=13710\n",
      "http://palevo.com/index.php?do=cat&category=2\n",
      "http://palevo.com/index.php?newsid=13710#comment\n",
      "http://palevo.com/index.php?newsid=13713\n",
      "http://palevo.com/index.php?do=cat&category=2\n",
      "http://palevo.com/index.php?newsid=13713#comment\n",
      "http://palevo.com/index.php?newsid=13717\n",
      "http://palevo.com/index.php?do=cat&category=2\n",
      "http://palevo.com/index.php?newsid=13717#comment\n"
     ]
    }
   ],
   "source": [
    "sample = []\n",
    "target_url = []\n",
    "target_dsc = []\n",
    "\n",
    "for r in res['entry']:\n",
    "    for x in r.elem().iter():\n",
    "        if x.tag == 'a':\n",
    "            print(x.attrib['href'])"
   ]
  },
  {
   "cell_type": "code",
   "execution_count": null,
   "metadata": {},
   "outputs": [],
   "source": [
    "p_used_tags"
   ]
  },
  {
   "cell_type": "code",
   "execution_count": 129,
   "metadata": {},
   "outputs": [
    {
     "data": {
      "text/plain": [
       "0"
      ]
     },
     "execution_count": 129,
     "metadata": {},
     "output_type": "execute_result"
    }
   ],
   "source": [
    "min([], default=0)"
   ]
  },
  {
   "cell_type": "code",
   "execution_count": null,
   "metadata": {
    "collapsed": true
   },
   "outputs": [],
   "source": []
  }
 ],
 "metadata": {
  "kernelspec": {
   "display_name": "Python 3",
   "language": "python",
   "name": "python3"
  },
  "language_info": {
   "codemirror_mode": {
    "name": "ipython",
    "version": 3
   },
   "file_extension": ".py",
   "mimetype": "text/x-python",
   "name": "python",
   "nbconvert_exporter": "python",
   "pygments_lexer": "ipython3",
   "version": "3.6.1"
  }
 },
 "nbformat": 4,
 "nbformat_minor": 2
}
