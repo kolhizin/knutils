{
 "cells": [
  {
   "cell_type": "code",
   "execution_count": 1,
   "metadata": {
    "collapsed": true
   },
   "outputs": [],
   "source": [
    "import sys\n",
    "import importlib\n",
    "sys.path.append('../../')\n",
    "\n",
    "import lxml.html as html\n",
    "\n",
    "import knutils.autoscraper as kas"
   ]
  },
  {
   "cell_type": "code",
   "execution_count": 2,
   "metadata": {
    "collapsed": true
   },
   "outputs": [],
   "source": [
    "def make_classifier(root, rel_depth=5, fwditer_num=20):\n",
    "    depth_stats, tag_stats, attrk_stats, attrv_stats, attrkv_stats = kas.AutoScraper.get_stats(root)\n",
    "\n",
    "    p_used_tags = ['a','td','img','tr','div','table','script','meta','span','link','input','center','param',\n",
    "                   'html','head','title','body','form','object','embed']\n",
    "    t_used_attrk = ['class', 'id', 'name', 'title', 'type', 'src']\n",
    "    t_used_attrv_raw = [z for (k, v) in attrkv_stats.items() if k in t_used_attrk for (z, n) in v]\n",
    "    t_used_attrv = list(set(t_used_attrv_raw))\n",
    "    p_used_attrkv = [(k, v) for k in t_used_attrk for v in t_used_attrv if v in [x[0] for x in attrkv_stats[k]]]\n",
    "\n",
    "    p_context = [('cur', lambda p: p),\n",
    "                 ('prev-1', lambda p: kas.AutoScraper.get_sibling(p, -1)),\n",
    "                 ('next-1', lambda p: kas.AutoScraper.get_sibling(p, +1)),\n",
    "                ('child-0',lambda p: kas.AutoScraper.get_child(p, 0)),\n",
    "                 ('child-1',lambda p: kas.AutoScraper.get_child(p, 1)),\n",
    "                 ('child-2',lambda p: kas.AutoScraper.get_child(p, 2))]\n",
    "    classifier1 = kas.ParentRelClassifier(kas.ContextClassifier(kas.TagClassifier(p_used_tags), p_context), rel_depth)\n",
    "    classifier2 = kas.ParentRelClassifier(kas.ContextClassifier(kas.AttribClassifier(p_used_attrkv), p_context), rel_depth)\n",
    "    classifier3 = kas.FwdIterClassifier(kas.TagClassifier(p_used_tags), fwditer_num)\n",
    "    return kas.AutoScraper({'tags':classifier1, 'attrs':classifier2, 'iter':classifier3})\n",
    "    \n",
    "def custom_order(clsf_name, split, split_stat):\n",
    "    res = kas.SplitStat.calc_gini(clsf_name, split, split_stat)\n",
    "    \n",
    "    if clsf_name=='iter':\n",
    "        if split.base().tag_name() == 'other':\n",
    "            res *= 0.1\n",
    "        res *= 0.25\n",
    "    elif clsf_name=='tags':\n",
    "        if split.base().base().tag_name()=='other':\n",
    "            res *= 0.1\n",
    "            \n",
    "    if clsf_name in ('tags', 'attrs'):\n",
    "        if split.base().name() != 'cur':\n",
    "            res *= 0.1\n",
    "    \n",
    "    return res"
   ]
  },
  {
   "cell_type": "code",
   "execution_count": 4,
   "metadata": {
    "collapsed": true
   },
   "outputs": [],
   "source": [
    "root = html.parse('../../../DataSets/SiteSample/S3/List2.html')\n",
    "fin_classifier = make_classifier(root)"
   ]
  },
  {
   "cell_type": "code",
   "execution_count": 6,
   "metadata": {},
   "outputs": [
    {
     "data": {
      "text/plain": [
       "(18, 18)"
      ]
     },
     "execution_count": 6,
     "metadata": {},
     "output_type": "execute_result"
    }
   ],
   "source": [
    "target_url = []\n",
    "target_dsc = []\n",
    "\n",
    "for x in root.iter():\n",
    "    if x.tag == 'a' and 'href' in x.attrib and 'view.php' in x.attrib['href']:\n",
    "        target_url.append(x)\n",
    "    if x.tail is not None and 'Размер' in x.tail:\n",
    "        target_dsc.append(x.getparent().getparent())\n",
    "len(target_url), len(target_dsc)"
   ]
  },
  {
   "cell_type": "code",
   "execution_count": 7,
   "metadata": {},
   "outputs": [
    {
     "name": "stdout",
     "output_type": "stream",
     "text": [
      "Wall time: 17.5 s\n"
     ]
    }
   ],
   "source": [
    "%%time\n",
    "url_scraper = fin_classifier.fit(root, target_url, order_function=custom_order)\n",
    "dsc_scraper = fin_classifier.fit(root, target_dsc, order_function=custom_order)"
   ]
  },
  {
   "cell_type": "code",
   "execution_count": 8,
   "metadata": {},
   "outputs": [
    {
     "data": {
      "text/plain": [
       "(('attrs', class=box_pic at context cur at rel-depth=1, 1033-0 vs 0-18),\n",
       " None,\n",
       " None)"
      ]
     },
     "execution_count": 8,
     "metadata": {},
     "output_type": "execute_result"
    }
   ],
   "source": [
    "url_scraper.get_split_tree()"
   ]
  },
  {
   "cell_type": "code",
   "execution_count": 9,
   "metadata": {},
   "outputs": [
    {
     "data": {
      "text/plain": [
       "(('attrs', class=box at context cur at rel-depth=4, 997-0 vs 36-18),\n",
       " (('tags', <img> at context cur at rel-depth=0, 18-18 vs 18-0),\n",
       "  None,\n",
       "  (('attrs', class=box_head at context cur at rel-depth=1, 0-18 vs 18-0),\n",
       "   None,\n",
       "   None)),\n",
       " None)"
      ]
     },
     "execution_count": 9,
     "metadata": {},
     "output_type": "execute_result"
    }
   ],
   "source": [
    "dsc_scraper.get_split_tree()"
   ]
  },
  {
   "cell_type": "code",
   "execution_count": 10,
   "metadata": {
    "collapsed": true
   },
   "outputs": [],
   "source": [
    "importlib.reload(kas)\n",
    "d_scrapers = {'url': url_scraper, 'dsc': dsc_scraper}\n",
    "d_structure = [({'url':(1,1), 'dsc':(1,1), 'other':(0,0)}, 'entry'),\n",
    "               ({'entry':(0,), 'dsc':(0,), 'other':(0,0)}, lambda x: kas.ScraperNode('lst', x.elem(), \n",
    "                     [y for y in x.get_list('entry')] +\n",
    "                    [kas.ScraperNode('entry', y.elem().getparent(), [y]) for y in x.get_list('dsc')])),\n",
    "               ({'lst':(1,), 'other':(0,0)}, lambda x: kas.ScraperNode('lst', x.elem(),\n",
    "                    sum([z.get_all() for z in x.get_list('lst')],[]))\n",
    "               )]\n",
    "fin_scraper = kas.MultiScraper(d_scrapers, d_structure)"
   ]
  },
  {
   "cell_type": "code",
   "execution_count": 11,
   "metadata": {},
   "outputs": [
    {
     "name": "stdout",
     "output_type": "stream",
     "text": [
      "Wall time: 145 ms\n"
     ]
    }
   ],
   "source": [
    "%%time\n",
    "r = fin_scraper.parse(root)"
   ]
  },
  {
   "cell_type": "code",
   "execution_count": 14,
   "metadata": {},
   "outputs": [
    {
     "data": {
      "text/plain": [
       "[entry(<Element table at 0x231ca628d18>) with [url(<Element a at 0x231ca1baea8>), dsc(<Element tr at 0x231ca243bd8>)],\n",
       " entry(<Element table at 0x231ca621408>) with [url(<Element a at 0x231ca243b38>), dsc(<Element tr at 0x231ca243c78>)],\n",
       " entry(<Element table at 0x231ca621638>) with [url(<Element a at 0x231ca243ae8>), dsc(<Element tr at 0x231ca243d18>)],\n",
       " entry(<Element table at 0x231ca621868>) with [url(<Element a at 0x231ca243b88>), dsc(<Element tr at 0x231ca243db8>)],\n",
       " entry(<Element table at 0x231ca621a98>) with [url(<Element a at 0x231ca243cc8>), dsc(<Element tr at 0x231ca243e58>)],\n",
       " entry(<Element table at 0x231ca621c78>) with [url(<Element a at 0x231ca243d68>), dsc(<Element tr at 0x231ca243ef8>)],\n",
       " entry(<Element table at 0x231ca621f98>) with [url(<Element a at 0x231ca243c28>), dsc(<Element tr at 0x231ca243f98>)],\n",
       " entry(<Element table at 0x231ca6171d8>) with [url(<Element a at 0x231ca243e08>), dsc(<Element tr at 0x231ca255098>)],\n",
       " entry(<Element table at 0x231ca617408>) with [url(<Element a at 0x231ca243f48>), dsc(<Element tr at 0x231ca255138>)],\n",
       " entry(<Element table at 0x231ca617688>) with [url(<Element a at 0x231ca255048>), dsc(<Element tr at 0x231ca2551d8>)],\n",
       " entry(<Element table at 0x231ca6178b8>) with [url(<Element a at 0x231ca243ea8>), dsc(<Element tr at 0x231ca255278>)],\n",
       " entry(<Element table at 0x231ca617ae8>) with [url(<Element a at 0x231ca2550e8>), dsc(<Element tr at 0x231ca255318>)],\n",
       " entry(<Element table at 0x231ca617d18>) with [url(<Element a at 0x231ca255228>), dsc(<Element tr at 0x231ca255458>)],\n",
       " entry(<Element table at 0x231ca617f98>) with [url(<Element a at 0x231ca2552c8>), dsc(<Element tr at 0x231ca2554f8>)],\n",
       " entry(<Element table at 0x231ca62a228>) with [url(<Element a at 0x231ca255188>), dsc(<Element tr at 0x231ca255598>)],\n",
       " entry(<Element table at 0x231ca62a458>) with [url(<Element a at 0x231ca255408>), dsc(<Element tr at 0x231ca255638>)],\n",
       " entry(<Element table at 0x231ca62a688>) with [url(<Element a at 0x231ca255548>), dsc(<Element tr at 0x231ca2556d8>)],\n",
       " entry(<Element table at 0x231ca62a908>) with [url(<Element a at 0x231ca2555e8>), dsc(<Element tr at 0x231ca255778>)]]"
      ]
     },
     "execution_count": 14,
     "metadata": {},
     "output_type": "execute_result"
    }
   ],
   "source": [
    "r.get_all()"
   ]
  },
  {
   "cell_type": "code",
   "execution_count": null,
   "metadata": {
    "collapsed": true
   },
   "outputs": [],
   "source": []
  }
 ],
 "metadata": {
  "kernelspec": {
   "display_name": "Python 3",
   "language": "python",
   "name": "python3"
  },
  "language_info": {
   "codemirror_mode": {
    "name": "ipython",
    "version": 3
   },
   "file_extension": ".py",
   "mimetype": "text/x-python",
   "name": "python",
   "nbconvert_exporter": "python",
   "pygments_lexer": "ipython3",
   "version": "3.6.1"
  }
 },
 "nbformat": 4,
 "nbformat_minor": 2
}
